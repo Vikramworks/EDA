{
 "cells": [
  {
   "cell_type": "code",
   "execution_count": null,
   "metadata": {},
   "outputs": [],
   "source": [
    "import pandas as pd\n",
    "\n",
    "# Specify the file path\n",
    "file_path = r\"C:\\Users\\DELL\\Downloads\\Bird_Monitoring_Data_FOREST.XLSX\"\n",
    "\n",
    "# Read all sheets into a dictionary of DataFrames\n",
    "data = pd.read_excel(file_path, sheet_name=None)\n",
    "\n",
    "# Combine all DataFrames into one\n",
    "df = pd.concat(data.values(), ignore_index=True)\n",
    "\n",
    "# Display the first few rows of the combined DataFrame\n",
    "print(df)"
   ]
  },
  {
   "cell_type": "code",
   "execution_count": null,
   "metadata": {},
   "outputs": [],
   "source": [
    "df.dtypes"
   ]
  },
  {
   "cell_type": "code",
   "execution_count": null,
   "metadata": {},
   "outputs": [],
   "source": [
    "df.isnull().sum()"
   ]
  },
  {
   "cell_type": "code",
   "execution_count": 37,
   "metadata": {},
   "outputs": [
    {
     "data": {
      "text/plain": [
       "np.int64(92)"
      ]
     },
     "execution_count": 37,
     "metadata": {},
     "output_type": "execute_result"
    }
   ],
   "source": [
    "df.Distance.isnull().sum()"
   ]
  },
  {
   "cell_type": "code",
   "execution_count": null,
   "metadata": {},
   "outputs": [],
   "source": [
    "import matplotlib.pyplot as plt\n",
    "import seaborn as sns\n",
    "sns.boxplot(data=df,x=\"Distance\")\n",
    "plt.title(\"Distance\")\n",
    "plt.xlabel(\"Distance\")\n",
    "plt.show()"
   ]
  },
  {
   "cell_type": "code",
   "execution_count": 3,
   "metadata": {},
   "outputs": [],
   "source": [
    "m = df[\"Distance\"].mode()[0]  # Get the mode (most frequent value) of the 'Distance' column\n",
    "df[\"Distance\"] = df[\"Distance\"].fillna(m)  # Use assignment to fill NaN values with the mode\n"
   ]
  },
  {
   "cell_type": "code",
   "execution_count": 4,
   "metadata": {},
   "outputs": [
    {
     "data": {
      "text/plain": [
       "Admin_Unit_Code                   0\n",
       "Sub_Unit_Code                  7824\n",
       "Site_Name                         0\n",
       "Plot_Name                         0\n",
       "Location_Type                     0\n",
       "Year                              0\n",
       "Date                              0\n",
       "Start_Time                        0\n",
       "End_Time                          0\n",
       "Observer                          0\n",
       "Visit                             0\n",
       "Interval_Length                   0\n",
       "ID_Method                         1\n",
       "Distance                          0\n",
       "Flyover_Observed                  0\n",
       "Sex                            5183\n",
       "Common_Name                       0\n",
       "Scientific_Name                   0\n",
       "AcceptedTSN                       9\n",
       "NPSTaxonCode                      0\n",
       "AOU_Code                          0\n",
       "PIF_Watchlist_Status              0\n",
       "Regional_Stewardship_Status       0\n",
       "Temperature                       0\n",
       "Humidity                          0\n",
       "Sky                               0\n",
       "Wind                              0\n",
       "Disturbance                       0\n",
       "Initial_Three_Min_Cnt             0\n",
       "dtype: int64"
      ]
     },
     "execution_count": 4,
     "metadata": {},
     "output_type": "execute_result"
    }
   ],
   "source": [
    "df.isnull().sum()"
   ]
  },
  {
   "cell_type": "code",
   "execution_count": 40,
   "metadata": {},
   "outputs": [
    {
     "data": {
      "text/plain": [
       "np.int64(5183)"
      ]
     },
     "execution_count": 40,
     "metadata": {},
     "output_type": "execute_result"
    }
   ],
   "source": [
    "df.Sex.isnull().sum()\n"
   ]
  },
  {
   "cell_type": "code",
   "execution_count": 41,
   "metadata": {},
   "outputs": [
    {
     "data": {
      "text/plain": [
       "0       Undetermined\n",
       "1                NaN\n",
       "2                NaN\n",
       "3                NaN\n",
       "4                NaN\n",
       "            ...     \n",
       "8541             NaN\n",
       "8542    Undetermined\n",
       "8543             NaN\n",
       "8544             NaN\n",
       "8545             NaN\n",
       "Name: Sex, Length: 8546, dtype: object"
      ]
     },
     "execution_count": 41,
     "metadata": {},
     "output_type": "execute_result"
    }
   ],
   "source": [
    "df.Sex"
   ]
  },
  {
   "cell_type": "code",
   "execution_count": 5,
   "metadata": {},
   "outputs": [],
   "source": [
    "df[\"Sex\"]=df[\"Sex\"].fillna(\"undetermined\")"
   ]
  },
  {
   "cell_type": "code",
   "execution_count": 6,
   "metadata": {},
   "outputs": [
    {
     "data": {
      "text/plain": [
       "np.int64(0)"
      ]
     },
     "execution_count": 6,
     "metadata": {},
     "output_type": "execute_result"
    }
   ],
   "source": [
    "df.Sex.isnull().sum()"
   ]
  },
  {
   "cell_type": "code",
   "execution_count": 44,
   "metadata": {},
   "outputs": [
    {
     "data": {
      "text/plain": [
       "Admin_Unit_Code                        object\n",
       "Sub_Unit_Code                          object\n",
       "Site_Name                              object\n",
       "Plot_Name                              object\n",
       "Location_Type                          object\n",
       "Year                                    int64\n",
       "Date                           datetime64[ns]\n",
       "Start_Time                             object\n",
       "End_Time                               object\n",
       "Observer                               object\n",
       "Visit                                   int64\n",
       "Interval_Length                        object\n",
       "ID_Method                              object\n",
       "Distance                               object\n",
       "Flyover_Observed                         bool\n",
       "Sex                                    object\n",
       "Common_Name                            object\n",
       "Scientific_Name                        object\n",
       "AcceptedTSN                           float64\n",
       "NPSTaxonCode                            int64\n",
       "AOU_Code                               object\n",
       "PIF_Watchlist_Status                     bool\n",
       "Regional_Stewardship_Status              bool\n",
       "Temperature                           float64\n",
       "Humidity                              float64\n",
       "Sky                                    object\n",
       "Wind                                   object\n",
       "Disturbance                            object\n",
       "Initial_Three_Min_Cnt                    bool\n",
       "dtype: object"
      ]
     },
     "execution_count": 44,
     "metadata": {},
     "output_type": "execute_result"
    }
   ],
   "source": [
    "df.dtypes"
   ]
  },
  {
   "cell_type": "code",
   "execution_count": 7,
   "metadata": {},
   "outputs": [
    {
     "data": {
      "text/plain": [
       "<Figure size 1000x600 with 0 Axes>"
      ]
     },
     "metadata": {},
     "output_type": "display_data"
    },
    {
     "data": {
      "image/png": "[encoded data removed]",
      "text/plain": [
       "<Figure size 1000x600 with 1 Axes>"
      ]
     },
     "metadata": {},
     "output_type": "display_data"
    },
    {
     "data": {
      "image/png": "[encoded data removed]",
      "text/plain": [
       "<Figure size 1000x600 with 1 Axes>"
      ]
     },
     "metadata": {},
     "output_type": "display_data"
    }
   ],
   "source": [
    "import seaborn as sns\n",
    "import matplotlib.pyplot as plt\n",
    "\n",
    "# List of numerical columns to check for outliers\n",
    "numeric_columns = [ 'Temperature', 'Humidity']\n",
    "\n",
    "# Set up the matplotlib figure\n",
    "plt.figure(figsize=(10, 6))\n",
    "\n",
    "# Create boxplots for each numeric column\n",
    "for col in numeric_columns:\n",
    "    plt.figure(figsize=(10, 6))\n",
    "    sns.boxplot(x=df[col])\n",
    "    plt.title(f'Boxplot for {col}')\n",
    "    plt.show()\n"
   ]
  },
  {
   "cell_type": "code",
   "execution_count": 56,
   "metadata": {},
   "outputs": [
    {
     "data": {
      "text/plain": [
       "np.float64(17.5)"
      ]
     },
     "execution_count": 56,
     "metadata": {},
     "output_type": "execute_result"
    }
   ],
   "source": [
    "df[\"Humidity\"].max()\n",
    "df[\"Humidity\"].min()\n"
   ]
  },
  {
   "cell_type": "code",
   "execution_count": 57,
   "metadata": {},
   "outputs": [
    {
     "data": {
      "text/plain": [
       "np.float64(11.0)"
      ]
     },
     "execution_count": 57,
     "metadata": {},
     "output_type": "execute_result"
    }
   ],
   "source": [
    "df[\"Temperature\"].max()\n",
    "df[\"Temperature\"].min()"
   ]
  },
  {
   "cell_type": "code",
   "execution_count": null,
   "metadata": {},
   "outputs": [],
   "source": [
    "import pandas as pd\n",
    "import numpy as np\n",
    "from scipy import stats\n",
    "\n",
    "# Example DataFrame\n",
    "data = df\n",
    "df = pd.DataFrame(data)\n",
    "\n",
    "# Step 1: Create a copy of the original columns to keep intact\n",
    "df['Temperature_clean'] = df['Temperature']\n",
    "df['Humidity_clean'] = df['Humidity']\n",
    "\n",
    "# Step 2: Identifying and removing outliers from 'Temperature_clean' using IQR\n",
    "Q1_temp = df['Temperature_clean'].quantile(0.25)\n",
    "Q3_temp = df['Temperature_clean'].quantile(0.75)\n",
    "IQR_temp = Q3_temp - Q1_temp\n",
    "lower_temp = Q1_temp - 1.5 * IQR_temp\n",
    "upper_temp = Q3_temp + 1.5 * IQR_temp\n",
    "\n",
    "# Remove outliers in 'Temperature_clean'\n",
    "df['Temperature_clean'] = df['Temperature_clean'].apply(lambda x: x if lower_temp <= x <= upper_temp else np.nan)\n",
    "\n",
    "# Step 3: Identifying and removing outliers from 'Humidity_clean' using IQR\n",
    "Q1_humid = df['Humidity_clean'].quantile(0.25)\n",
    "Q3_humid = df['Humidity_clean'].quantile(0.75)\n",
    "IQR_humid = Q3_humid - Q1_humid\n",
    "lower_humid = Q1_humid - 1.5 * IQR_humid\n",
    "upper_humid = Q3_humid + 1.5 * IQR_humid\n",
    "\n",
    "# Remove outliers in 'Humidity_clean'\n",
    "df['Humidity_clean'] = df['Humidity_clean'].apply(lambda x: x if lower_humid <= x <= upper_humid else np.nan)\n",
    "\n",
    "# Show the DataFrame with original and cleaned columns\n",
    "print(df)\n"
   ]
  },
  {
   "cell_type": "code",
   "execution_count": null,
   "metadata": {},
   "outputs": [],
   "source": [
    "df.columns"
   ]
  },
  {
   "cell_type": "code",
   "execution_count": 9,
   "metadata": {},
   "outputs": [
    {
     "data": {
      "text/plain": [
       "<Figure size 1000x600 with 0 Axes>"
      ]
     },
     "metadata": {},
     "output_type": "display_data"
    },
    {
     "data": {
      "image/png": "[encoded data removed]",
      "text/plain": [
       "<Figure size 1000x600 with 1 Axes>"
      ]
     },
     "metadata": {},
     "output_type": "display_data"
    },
    {
     "data": {
      "image/png": "[encoded data removed]",
      "text/plain": [
       "<Figure size 1000x600 with 1 Axes>"
      ]
     },
     "metadata": {},
     "output_type": "display_data"
    }
   ],
   "source": [
    "import seaborn as sns\n",
    "import matplotlib.pyplot as plt\n",
    "\n",
    "# List of numerical columns to check for outliers\n",
    "numeric_columns = [ 'Temperature_clean', 'Humidity_clean']\n",
    "\n",
    "# Set up the matplotlib figure\n",
    "plt.figure(figsize=(10, 6))\n",
    "\n",
    "# Create boxplots for each numeric column\n",
    "for col in numeric_columns:\n",
    "    plt.figure(figsize=(10, 6))\n",
    "    sns.boxplot(x=df[col])\n",
    "    plt.title(f'Boxplot for {col}')\n",
    "    plt.show()\n"
   ]
  },
  {
   "cell_type": "code",
   "execution_count": 10,
   "metadata": {},
   "outputs": [],
   "source": [
    "Q1_humid = df['Humidity_clean'].quantile(0.25)\n",
    "Q3_humid = df['Humidity_clean'].quantile(0.75)\n",
    "IQR_humid = Q3_humid - Q1_humid\n",
    "lower_humid = Q1_humid - 1.5 * IQR_humid\n",
    "upper_humid = Q3_humid + 1.5 * IQR_humid\n",
    "\n",
    "# Remove outliers in 'Humidity_clean'\n",
    "df['Humidity_clean'] = df['Humidity_clean'].apply(lambda x: x if lower_humid <= x <= upper_humid else np.nan)"
   ]
  },
  {
   "cell_type": "code",
   "execution_count": 11,
   "metadata": {},
   "outputs": [
    {
     "data": {
      "text/plain": [
       "<Figure size 1000x600 with 0 Axes>"
      ]
     },
     "metadata": {},
     "output_type": "display_data"
    },
    {
     "data": {
      "image/png": "[encoded data removed]",
      "text/plain": [
       "<Figure size 1000x600 with 1 Axes>"
      ]
     },
     "metadata": {},
     "output_type": "display_data"
    }
   ],
   "source": [
    "import seaborn as sns\n",
    "import matplotlib.pyplot as plt\n",
    "\n",
    "# List of numerical columns to check for outliers\n",
    "numeric_columns = [ 'Humidity_clean']\n",
    "\n",
    "# Set up the matplotlib figure\n",
    "plt.figure(figsize=(10, 6))\n",
    "\n",
    "# Create boxplots for each numeric column\n",
    "for col in numeric_columns:\n",
    "    plt.figure(figsize=(10, 6))\n",
    "    sns.boxplot(x=df[col])\n",
    "    plt.title(f'Boxplot for {col}')\n",
    "    plt.show()\n"
   ]
  },
  {
   "cell_type": "code",
   "execution_count": null,
   "metadata": {},
   "outputs": [],
   "source": [
    "df.columns"
   ]
  },
  {
   "cell_type": "code",
   "execution_count": null,
   "metadata": {},
   "outputs": [],
   "source": [
    "df.tail(30)"
   ]
  },
  {
   "cell_type": "code",
   "execution_count": 15,
   "metadata": {},
   "outputs": [],
   "source": [
    "import pandas as pd\n",
    "\n",
    "# Assuming 'df' is your cleaned DataFrame\n",
    "\n",
    "# Save the cleaned DataFrame to a new Excel file\n",
    "df.to_excel('cleaned_data.xlsx', index=False)"
   ]
  },
  {
   "cell_type": "code",
   "execution_count": 16,
   "metadata": {},
   "outputs": [
    {
     "name": "stdout",
     "output_type": "stream",
     "text": [
      "d:\\Tennis Analysis\n"
     ]
    }
   ],
   "source": [
    "import os\n",
    "print(os.getcwd())\n"
   ]
  },
  {
   "cell_type": "code",
   "execution_count": null,
   "metadata": {},
   "outputs": [],
   "source": []
  },
  {
   "cell_type": "code",
   "execution_count": null,
   "metadata": {},
   "outputs": [],
   "source": []
  }
 ],
 "metadata": {
  "kernelspec": {
   "display_name": "Python 3",
   "language": "python",
   "name": "python3"
  },
  "language_info": {
   "codemirror_mode": {
    "name": "ipython",
    "version": 3
   },
   "file_extension": ".py",
   "mimetype": "text/x-python",
   "name": "python",
   "nbconvert_exporter": "python",
   "pygments_lexer": "ipython3",
   "version": "3.13.1"
  }
 },
 "nbformat": 4,
 "nbformat_minor": 2
}
