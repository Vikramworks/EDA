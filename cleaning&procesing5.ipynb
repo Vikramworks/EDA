{
 "cells": [
  {
   "cell_type": "code",
   "execution_count": null,
   "metadata": {},
   "outputs": [],
   "source": [
    "import pandas as pd\n",
    "\n",
    "# Read the CSV file\n",
    "df = pd.read_csv(r'D:\\Tennis Analysis\\cleaned_data_updated.csv')\n",
    "\n",
    "# Display the first few rows of the DataFrame\n",
    "print(df.head())\n"
   ]
  },
  {
   "cell_type": "code",
   "execution_count": null,
   "metadata": {},
   "outputs": [],
   "source": [
    "df.isnull().sum()"
   ]
  },
  {
   "cell_type": "code",
   "execution_count": 4,
   "metadata": {},
   "outputs": [],
   "source": [
    "df['Temperature_clean'] = df['Temperature_clean'].fillna(0)  # Replace NaN in column A with 0\n"
   ]
  },
  {
   "cell_type": "code",
   "execution_count": 3,
   "metadata": {},
   "outputs": [],
   "source": [
    "df = df.dropna(axis=0)  # Drops rows with null values\n"
   ]
  },
  {
   "cell_type": "code",
   "execution_count": null,
   "metadata": {},
   "outputs": [],
   "source": [
    "df.isnull().sum()"
   ]
  },
  {
   "cell_type": "code",
   "execution_count": null,
   "metadata": {},
   "outputs": [],
   "source": [
    "df.dtypes"
   ]
  },
  {
   "cell_type": "code",
   "execution_count": null,
   "metadata": {},
   "outputs": [],
   "source": [
    "# Using apply to convert all Boolean columns\n",
    "df = df.apply(lambda x: x.astype(int) if x.dtype == 'bool' else x)\n",
    "\n",
    "print(df)\n"
   ]
  },
  {
   "cell_type": "code",
   "execution_count": null,
   "metadata": {},
   "outputs": [],
   "source": [
    "df.dtypes"
   ]
  },
  {
   "cell_type": "code",
   "execution_count": null,
   "metadata": {},
   "outputs": [],
   "source": [
    "# Access a specific column\n",
    "print(df['Interval_Length'])\n"
   ]
  },
  {
   "cell_type": "code",
   "execution_count": null,
   "metadata": {},
   "outputs": [],
   "source": [
    "import pandas as pd\n",
    "\n",
    "# Assuming your dataframe is named df and has a column 'Interval_Length'\n",
    "# Function to calculate the midpoint of the range\n",
    "def convert_to_number(interval):\n",
    "    try:\n",
    "        # Remove 'min' and any extra spaces, then split the range\n",
    "        interval = interval.replace(' min', '').strip()\n",
    "        \n",
    "        # Split the range by '-'\n",
    "        start, end = interval.split('-')\n",
    "        \n",
    "        # Convert the values to float and calculate the midpoint\n",
    "        start = float(start.strip())\n",
    "        end = float(end.strip())\n",
    "        \n",
    "        return (start + end) / 2  # Return the midpoint\n",
    "    except ValueError:\n",
    "        # In case the format is invalid, return None\n",
    "        return None\n",
    "\n",
    "# Apply the function to the 'Interval_Length' column in your df\n",
    "df['Interval_Length_Num'] = df['Interval_Length'].apply(convert_to_number)\n",
    "\n",
    "# Display the result\n",
    "print(df)\n"
   ]
  },
  {
   "cell_type": "code",
   "execution_count": null,
   "metadata": {},
   "outputs": [],
   "source": [
    "print(df['Interval_Length_Num'])"
   ]
  },
  {
   "cell_type": "code",
   "execution_count": null,
   "metadata": {},
   "outputs": [],
   "source": [
    "df.drop(\"Interval_Length\",axis=1)"
   ]
  },
  {
   "cell_type": "code",
   "execution_count": null,
   "metadata": {},
   "outputs": [],
   "source": [
    "df.dtypes"
   ]
  },
  {
   "cell_type": "code",
   "execution_count": null,
   "metadata": {},
   "outputs": [],
   "source": [
    "df.Interval_Length"
   ]
  },
  {
   "cell_type": "code",
   "execution_count": 10,
   "metadata": {},
   "outputs": [],
   "source": [
    "df.drop(columns=['Interval_Length'], inplace=True)\n"
   ]
  },
  {
   "cell_type": "code",
   "execution_count": null,
   "metadata": {},
   "outputs": [],
   "source": [
    "df.Distance"
   ]
  },
  {
   "cell_type": "code",
   "execution_count": null,
   "metadata": {},
   "outputs": [],
   "source": [
    "import pandas as pd\n",
    "\n",
    "# Sample data for the Distance column\n",
    "# Function to convert the Distance column to numeric values\n",
    "def convert_to_numeric(distance):\n",
    "    # Remove 'Meters' and any extra spaces\n",
    "    distance = distance.replace(' Meters', '').strip()\n",
    "\n",
    "    if '<=' in distance:\n",
    "        # If the value is '<= 50 Meters', consider it as 50 (or another appropriate value)\n",
    "        return 50\n",
    "    elif '-' in distance:\n",
    "        # For ranges like '50 - 100 Meters', take the midpoint\n",
    "        start, end = distance.split(' - ')\n",
    "        return (float(start) + float(end)) / 2\n",
    "    else:\n",
    "        # For exact values like '50 Meters', convert directly\n",
    "        return float(distance)\n",
    "\n",
    "# Apply the function to the 'Distance' column\n",
    "df['Distance_Num'] = df['Distance'].apply(convert_to_numeric)\n",
    "\n",
    "# Display the updated DataFrame\n",
    "print(df)\n"
   ]
  },
  {
   "cell_type": "code",
   "execution_count": null,
   "metadata": {},
   "outputs": [],
   "source": [
    "df.Distance_Num"
   ]
  },
  {
   "cell_type": "code",
   "execution_count": 13,
   "metadata": {},
   "outputs": [],
   "source": [
    "df.drop(columns=[\"Distance\"],inplace=True)"
   ]
  },
  {
   "cell_type": "code",
   "execution_count": null,
   "metadata": {},
   "outputs": [],
   "source": [
    "df.Start_Time"
   ]
  },
  {
   "cell_type": "code",
   "execution_count": null,
   "metadata": {},
   "outputs": [],
   "source": [
    "df = pd.DataFrame(df)\n",
    "\n",
    "# Convert 'Start_Time' to datetime (keep only time part)\n",
    "df['Start_Time'] = pd.to_datetime(df['Start_Time'], format='%H:%M:%S').dt.time\n",
    "\n",
    "# Check the updated DataFrame and its type\n",
    "print(df)\n",
    "print(df['Start_Time'].dtype)"
   ]
  },
  {
   "cell_type": "code",
   "execution_count": 72,
   "metadata": {},
   "outputs": [],
   "source": [
    "df.to_csv('output.csv', index=False)"
   ]
  },
  {
   "cell_type": "code",
   "execution_count": null,
   "metadata": {},
   "outputs": [],
   "source": [
    "df.columns"
   ]
  },
  {
   "cell_type": "code",
   "execution_count": null,
   "metadata": {},
   "outputs": [],
   "source": [
    "import pandas as pd\n",
    "df1=pd.read_excel(r\"D:\\Tennis Analysis\\GREENLAND.xlsx\")\n",
    "df1"
   ]
  },
  {
   "cell_type": "code",
   "execution_count": null,
   "metadata": {},
   "outputs": [],
   "source": [
    "df1.isnull().sum()"
   ]
  },
  {
   "cell_type": "code",
   "execution_count": 13,
   "metadata": {},
   "outputs": [],
   "source": [
    "df1.fillna(0,inplace=True)\n"
   ]
  },
  {
   "cell_type": "code",
   "execution_count": null,
   "metadata": {},
   "outputs": [],
   "source": [
    "df1.isnull().sum()"
   ]
  },
  {
   "cell_type": "code",
   "execution_count": 15,
   "metadata": {},
   "outputs": [],
   "source": [
    "# Save the DataFrame df1 to a CSV file\n",
    "df1.to_csv('newgreen.csv', index=False)\n"
   ]
  },
  {
   "cell_type": "code",
   "execution_count": null,
   "metadata": {},
   "outputs": [],
   "source": [
    "df1.columns"
   ]
  },
  {
   "cell_type": "code",
   "execution_count": null,
   "metadata": {},
   "outputs": [],
   "source": [
    "import pandas as pd \n",
    "df3=pd.read_csv(r\"D:\\park\\merged_file.csv\")\n",
    "df3"
   ]
  },
  {
   "cell_type": "code",
   "execution_count": null,
   "metadata": {},
   "outputs": [],
   "source": [
    "df3.isnull().sum()"
   ]
  },
  {
   "cell_type": "code",
   "execution_count": null,
   "metadata": {},
   "outputs": [],
   "source": [
    "df3.columns"
   ]
  },
  {
   "cell_type": "code",
   "execution_count": null,
   "metadata": {},
   "outputs": [],
   "source": [
    "df1.columns"
   ]
  },
  {
   "cell_type": "code",
   "execution_count": null,
   "metadata": {},
   "outputs": [],
   "source": [
    "df1.Distance"
   ]
  },
  {
   "cell_type": "code",
   "execution_count": null,
   "metadata": {},
   "outputs": [],
   "source": [
    "import pandas as pd\n",
    "\n",
    "# Sample data for the Distance column\n",
    "# Function to convert the Distance column to numeric values\n",
    "def convert_to_numeric(distance):\n",
    "    # Remove 'Meters' and any extra spaces\n",
    "    distance = distance.replace(' Meters', '').strip()\n",
    "\n",
    "    if '<=' in distance:\n",
    "        # If the value is '<= 50 Meters', consider it as 50 (or another appropriate value)\n",
    "        return 50\n",
    "    elif '-' in distance:\n",
    "        # For ranges like '50 - 100 Meters', take the midpoint\n",
    "        start, end = distance.split(' - ')\n",
    "        return (float(start) + float(end)) / 2\n",
    "    else:\n",
    "        # For exact values like '50 Meters', convert directly\n",
    "        return float(distance)\n",
    "\n",
    "# Apply the function to the 'Distance' column\n",
    "df1['Distance_Num'] = df1['Distance'].apply(convert_to_numeric)\n",
    "\n",
    "# Display the updated DataFrame\n",
    "print(df1)\n"
   ]
  },
  {
   "cell_type": "code",
   "execution_count": null,
   "metadata": {},
   "outputs": [],
   "source": [
    "import pandas as pd\n",
    "\n",
    "# dataframe is named df and has a column 'Interval_Length'\n",
    "# Function to calculate the midpoint of the range\n",
    "def convert_to_number(interval):\n",
    "    try:\n",
    "        # Remove 'min' and any extra spaces, then split the range\n",
    "        interval = interval.replace(' min', '').strip()\n",
    "        \n",
    "        # Split the range by '-'\n",
    "        start, end = interval.split('-')\n",
    "        \n",
    "        # Convert the values to float and calculate the midpoint\n",
    "        start = float(start.strip())\n",
    "        end = float(end.strip())\n",
    "        \n",
    "        return (start + end) / 2  # Return the midpoint\n",
    "    except ValueError:\n",
    "        # In case the format is invalid, return None\n",
    "        return None\n",
    "\n",
    "# Apply the function to the 'Interval_Length' column in your df\n",
    "df1['Interval_Length_Num'] = df1['Interval_Length'].apply(convert_to_number)\n",
    "\n",
    "# Display the result\n",
    "print(df1)"
   ]
  },
  {
   "cell_type": "code",
   "execution_count": 28,
   "metadata": {},
   "outputs": [],
   "source": [
    "df1.drop(columns=['Distance'], inplace=True)"
   ]
  },
  {
   "cell_type": "code",
   "execution_count": null,
   "metadata": {},
   "outputs": [],
   "source": [
    "# Using apply to convert all Boolean columns\n",
    "df1 = df1.apply(lambda x: x.astype(int) if x.dtype == 'bool' else x)\n",
    "\n",
    "print(df1)"
   ]
  },
  {
   "cell_type": "code",
   "execution_count": null,
   "metadata": {},
   "outputs": [],
   "source": [
    "df1.dtypes"
   ]
  },
  {
   "cell_type": "code",
   "execution_count": 32,
   "metadata": {},
   "outputs": [],
   "source": [
    "df1.to_csv(\"all.csv\",index=False)"
   ]
  },
  {
   "cell_type": "code",
   "execution_count": null,
   "metadata": {},
   "outputs": [],
   "source": [
    "df1.duplicated"
   ]
  },
  {
   "cell_type": "code",
   "execution_count": null,
   "metadata": {},
   "outputs": [],
   "source": [
    "import pandas as pd\n",
    "\n",
    "# Load both CSV files into DataFrames\n",
    "file1 = pd.read_csv(r\"D:\\park\\all.csv\")\n",
    "file2 = pd.read_csv(r\"D:\\park\\output.csv\")\n",
    "\n",
    "# Concatenate the DataFrames vertically (stack rows)\n",
    "All_df = pd.concat([file1, file2], ignore_index=True)\n",
    "\n",
    "# Save the merged DataFrame to a new CSV file\n",
    "All_df.to_csv('All.csv', index=False)"
   ]
  },
  {
   "cell_type": "code",
   "execution_count": null,
   "metadata": {},
   "outputs": [],
   "source": [
    "import pandas as pd\n",
    "df4=pd.read_csv(r\"D:\\park\\merged_file.csv\")\n",
    "df4.tail(30)"
   ]
  },
  {
   "cell_type": "code",
   "execution_count": null,
   "metadata": {},
   "outputs": [],
   "source": [
    "df4.isnull().sum()"
   ]
  },
  {
   "cell_type": "code",
   "execution_count": 4,
   "metadata": {},
   "outputs": [],
   "source": [
    "df4=df4.fillna(0)"
   ]
  },
  {
   "cell_type": "code",
   "execution_count": null,
   "metadata": {},
   "outputs": [],
   "source": [
    "df4.isnull().sum()"
   ]
  },
  {
   "cell_type": "code",
   "execution_count": 7,
   "metadata": {},
   "outputs": [],
   "source": [
    "df4.to_csv('newall.csv',index=False)"
   ]
  },
  {
   "cell_type": "code",
   "execution_count": 8,
   "metadata": {},
   "outputs": [],
   "source": [
    "df4['Site_Name'] = df4['Site_Name'].replace(0, 'No')\n"
   ]
  },
  {
   "cell_type": "code",
   "execution_count": null,
   "metadata": {},
   "outputs": [],
   "source": [
    "df4.to_csv(\"vikram.csv\",index=False)"
   ]
  },
  {
   "cell_type": "code",
   "execution_count": null,
   "metadata": {},
   "outputs": [],
   "source": [
    "import pandas as pd\n",
    "\n",
    "# Set the file path\n",
    "input_file = r\"D:\\park\\vikram.csv\"\n",
    "\n",
    "# Define the number of rows per file\n",
    "rows_per_file = 5000  # You can adjust this number based on your needs\n",
    "\n",
    "# Read the CSV file in chunks\n",
    "df = pd.read_csv(input_file)\n",
    "\n",
    "# Split the dataframe into smaller parts\n",
    "num_chunks = len(df) // rows_per_file + 1\n",
    "for i in range(num_chunks):\n",
    "    # Define the start and end index for each chunk\n",
    "    start_row = i * rows_per_file\n",
    "    end_row = min((i + 1) * rows_per_file, len(df))\n",
    "\n",
    "    # Create a new CSV for each chunk\n",
    "    chunk_df = df[start_row:end_row]\n",
    "    chunk_filename = f'output_part_{i + 1}.csv'\n",
    "    chunk_df.to_csv(chunk_filename, index=False)\n",
    "    print(f'Saved chunk: {chunk_filename}')\n"
   ]
  },
  {
   "cell_type": "code",
   "execution_count": null,
   "metadata": {},
   "outputs": [],
   "source": [
    "df4.columns"
   ]
  },
  {
   "cell_type": "code",
   "execution_count": null,
   "metadata": {},
   "outputs": [],
   "source": [
    "df4.ID_Method.unique()"
   ]
  },
  {
   "cell_type": "code",
   "execution_count": null,
   "metadata": {},
   "outputs": [],
   "source": [
    "# Access rows where 'ID_Method' is '0'\n",
    "rows_with_0 = df4[df4['ID_Method'] == '0']\n",
    "\n",
    "# Display the rows\n",
    "print(rows_with_0)\n",
    "row_count = len(rows_with_0)\n",
    "print(f\"Number of rows with ID_Method == '0': {row_count}\")\n"
   ]
  },
  {
   "cell_type": "code",
   "execution_count": null,
   "metadata": {},
   "outputs": [],
   "source": []
  },
  {
   "cell_type": "code",
   "execution_count": null,
   "metadata": {},
   "outputs": [],
   "source": []
  },
  {
   "cell_type": "code",
   "execution_count": null,
   "metadata": {},
   "outputs": [],
   "source": []
  }
 ],
 "metadata": {
  "kernelspec": {
   "display_name": "Python 3",
   "language": "python",
   "name": "python3"
  },
  "language_info": {
   "codemirror_mode": {
    "name": "ipython",
    "version": 3
   },
   "file_extension": ".py",
   "mimetype": "text/x-python",
   "name": "python",
   "nbconvert_exporter": "python",
   "pygments_lexer": "ipython3",
   "version": "3.13.1"
  }
 },
 "nbformat": 4,
 "nbformat_minor": 2
}
