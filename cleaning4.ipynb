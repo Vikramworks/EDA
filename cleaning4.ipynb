{
 "cells": [
  {
   "cell_type": "code",
   "execution_count": null,
   "metadata": {},
   "outputs": [],
   "source": [
    "import pandas as pd\n",
    "\n",
    "# Specify the file path\n",
    "file_path = r'C:\\Bird_Monitoring_Data_GRASSLAND.XLSX'\n",
    "\n",
    "# Read all sheets into a dictionary of DataFrames\n",
    "data = pd.read_excel(file_path, sheet_name=None)\n",
    "\n",
    "# Combine all DataFrames into one\n",
    "df = pd.concat(data.values(), ignore_index=True)\n",
    "\n",
    "# Display the first few rows of the combined DataFrame\n",
    "print(df)\n"
   ]
  },
  {
   "cell_type": "code",
   "execution_count": 67,
   "metadata": {},
   "outputs": [
    {
     "data": {
      "text/plain": [
       "8491    178448.0\n",
       "8492    178448.0\n",
       "8493    179112.0\n",
       "8494    179435.0\n",
       "8495    179112.0\n",
       "8496    179112.0\n",
       "8497    179759.0\n",
       "8498    179759.0\n",
       "8499    179112.0\n",
       "8500    179333.0\n",
       "8501    179112.0\n",
       "8502    179759.0\n",
       "8503    179759.0\n",
       "8504    554138.0\n",
       "8505    179104.0\n",
       "8506    179104.0\n",
       "8507    179680.0\n",
       "8508    179150.0\n",
       "8509    179637.0\n",
       "8510    179150.0\n",
       "8511    179637.0\n",
       "8512    179637.0\n",
       "8513    179637.0\n",
       "8514    179759.0\n",
       "8515    179104.0\n",
       "8516    179150.0\n",
       "8517    179637.0\n",
       "8518    179637.0\n",
       "8519    179637.0\n",
       "8520    179637.0\n",
       "8521    179680.0\n",
       "8522    179680.0\n",
       "8523    179637.0\n",
       "8524    179104.0\n",
       "8525    179637.0\n",
       "8526    179637.0\n",
       "8527    179637.0\n",
       "8528    179637.0\n",
       "8529    179637.0\n",
       "8530    179637.0\n",
       "Name: AcceptedTSN, dtype: float64"
      ]
     },
     "execution_count": 67,
     "metadata": {},
     "output_type": "execute_result"
    }
   ],
   "source": [
    "df.AcceptedTSN.tail(40)"
   ]
  },
  {
   "cell_type": "code",
   "execution_count": 47,
   "metadata": {},
   "outputs": [
    {
     "name": "stdout",
     "output_type": "stream",
     "text": [
      "1705\n"
     ]
    }
   ],
   "source": [
    "print(df.duplicated().sum())  # Counts duplicate rows"
   ]
  },
  {
   "cell_type": "code",
   "execution_count": 2,
   "metadata": {},
   "outputs": [
    {
     "data": {
      "text/plain": [
       "Admin_Unit_Code                   0\n",
       "Sub_Unit_Code                  8531\n",
       "Plot_Name                         0\n",
       "Location_Type                     0\n",
       "Year                              0\n",
       "Date                              0\n",
       "Start_Time                        0\n",
       "End_Time                          0\n",
       "Observer                          0\n",
       "Visit                             0\n",
       "Interval_Length                   0\n",
       "ID_Method                         1\n",
       "Distance                       1394\n",
       "Flyover_Observed                  0\n",
       "Sex                               0\n",
       "Common_Name                       0\n",
       "Scientific_Name                   0\n",
       "AcceptedTSN                      24\n",
       "TaxonCode                         2\n",
       "AOU_Code                          0\n",
       "PIF_Watchlist_Status              0\n",
       "Regional_Stewardship_Status       0\n",
       "Temperature                       0\n",
       "Humidity                          0\n",
       "Sky                               0\n",
       "Wind                              0\n",
       "Disturbance                       0\n",
       "Previously_Obs                    0\n",
       "Initial_Three_Min_Cnt             0\n",
       "dtype: int64"
      ]
     },
     "execution_count": 2,
     "metadata": {},
     "output_type": "execute_result"
    }
   ],
   "source": [
    "df.isnull().sum()"
   ]
  },
  {
   "cell_type": "code",
   "execution_count": 4,
   "metadata": {},
   "outputs": [],
   "source": [
    "df.drop_duplicates(inplace=True)"
   ]
  },
  {
   "cell_type": "code",
   "execution_count": null,
   "metadata": {},
   "outputs": [],
   "source": [
    "df.duplicated"
   ]
  },
  {
   "cell_type": "code",
   "execution_count": null,
   "metadata": {},
   "outputs": [],
   "source": [
    "df.duplicated"
   ]
  },
  {
   "cell_type": "code",
   "execution_count": 5,
   "metadata": {},
   "outputs": [
    {
     "data": {
      "text/plain": [
       "np.int64(597)"
      ]
     },
     "execution_count": 5,
     "metadata": {},
     "output_type": "execute_result"
    }
   ],
   "source": [
    "df.Distance.isnull().sum()"
   ]
  },
  {
   "cell_type": "code",
   "execution_count": null,
   "metadata": {},
   "outputs": [],
   "source": [
    "import pandas as pd\n",
    "\n",
    "# Assuming df is your DataFrame\n",
    "mode_value = df['Distance'].mode()[0]  # Get the mode (most frequent value) of the 'Distance' column\n",
    "df['Distance'] = df['Distance'].fillna(mode_value)  # Fill missing values with the mode value\n",
    "\n",
    "# Output the updated DataFrame\n",
    "print(df)\n"
   ]
  },
  {
   "cell_type": "code",
   "execution_count": 7,
   "metadata": {},
   "outputs": [
    {
     "data": {
      "text/plain": [
       "np.int64(0)"
      ]
     },
     "execution_count": 7,
     "metadata": {},
     "output_type": "execute_result"
    }
   ],
   "source": [
    "df.Distance.isnull().sum()"
   ]
  },
  {
   "cell_type": "code",
   "execution_count": 8,
   "metadata": {},
   "outputs": [
    {
     "data": {
      "text/plain": [
       "Admin_Unit_Code                   0\n",
       "Sub_Unit_Code                  6826\n",
       "Plot_Name                         0\n",
       "Location_Type                     0\n",
       "Year                              0\n",
       "Date                              0\n",
       "Start_Time                        0\n",
       "End_Time                          0\n",
       "Observer                          0\n",
       "Visit                             0\n",
       "Interval_Length                   0\n",
       "ID_Method                         1\n",
       "Distance                          0\n",
       "Flyover_Observed                  0\n",
       "Sex                               0\n",
       "Common_Name                       0\n",
       "Scientific_Name                   0\n",
       "AcceptedTSN                      19\n",
       "TaxonCode                         2\n",
       "AOU_Code                          0\n",
       "PIF_Watchlist_Status              0\n",
       "Regional_Stewardship_Status       0\n",
       "Temperature                       0\n",
       "Humidity                          0\n",
       "Sky                               0\n",
       "Wind                              0\n",
       "Disturbance                       0\n",
       "Previously_Obs                    0\n",
       "Initial_Three_Min_Cnt             0\n",
       "dtype: int64"
      ]
     },
     "execution_count": 8,
     "metadata": {},
     "output_type": "execute_result"
    }
   ],
   "source": [
    "df.isnull().sum()"
   ]
  },
  {
   "cell_type": "code",
   "execution_count": 9,
   "metadata": {},
   "outputs": [
    {
     "data": {
      "text/plain": [
       "np.int64(19)"
      ]
     },
     "execution_count": 9,
     "metadata": {},
     "output_type": "execute_result"
    }
   ],
   "source": [
    "df.AcceptedTSN.isnull().sum()"
   ]
  },
  {
   "cell_type": "code",
   "execution_count": null,
   "metadata": {},
   "outputs": [],
   "source": [
    " import pandas as pd\n",
    "\n",
    "# Fill NaN values in 'AcceptedTSN' column with the value 997805\n",
    "df['AcceptedTSN'].fillna(997805, inplace=True)\n",
    "\n",
    "# Verify the change\n",
    "print(df)\n"
   ]
  },
  {
   "cell_type": "code",
   "execution_count": 11,
   "metadata": {},
   "outputs": [
    {
     "data": {
      "text/plain": [
       "Admin_Unit_Code                   0\n",
       "Sub_Unit_Code                  6826\n",
       "Plot_Name                         0\n",
       "Location_Type                     0\n",
       "Year                              0\n",
       "Date                              0\n",
       "Start_Time                        0\n",
       "End_Time                          0\n",
       "Observer                          0\n",
       "Visit                             0\n",
       "Interval_Length                   0\n",
       "ID_Method                         1\n",
       "Distance                          0\n",
       "Flyover_Observed                  0\n",
       "Sex                               0\n",
       "Common_Name                       0\n",
       "Scientific_Name                   0\n",
       "AcceptedTSN                       0\n",
       "TaxonCode                         2\n",
       "AOU_Code                          0\n",
       "PIF_Watchlist_Status              0\n",
       "Regional_Stewardship_Status       0\n",
       "Temperature                       0\n",
       "Humidity                          0\n",
       "Sky                               0\n",
       "Wind                              0\n",
       "Disturbance                       0\n",
       "Previously_Obs                    0\n",
       "Initial_Three_Min_Cnt             0\n",
       "dtype: int64"
      ]
     },
     "execution_count": 11,
     "metadata": {},
     "output_type": "execute_result"
    }
   ],
   "source": [
    "df.isnull().sum()"
   ]
  },
  {
   "cell_type": "code",
   "execution_count": 12,
   "metadata": {},
   "outputs": [],
   "source": [
    "df.drop('Sub_Unit_Code', axis=1, inplace=True)"
   ]
  },
  {
   "cell_type": "code",
   "execution_count": 13,
   "metadata": {},
   "outputs": [
    {
     "data": {
      "text/plain": [
       "Admin_Unit_Code                0\n",
       "Plot_Name                      0\n",
       "Location_Type                  0\n",
       "Year                           0\n",
       "Date                           0\n",
       "Start_Time                     0\n",
       "End_Time                       0\n",
       "Observer                       0\n",
       "Visit                          0\n",
       "Interval_Length                0\n",
       "ID_Method                      1\n",
       "Distance                       0\n",
       "Flyover_Observed               0\n",
       "Sex                            0\n",
       "Common_Name                    0\n",
       "Scientific_Name                0\n",
       "AcceptedTSN                    0\n",
       "TaxonCode                      2\n",
       "AOU_Code                       0\n",
       "PIF_Watchlist_Status           0\n",
       "Regional_Stewardship_Status    0\n",
       "Temperature                    0\n",
       "Humidity                       0\n",
       "Sky                            0\n",
       "Wind                           0\n",
       "Disturbance                    0\n",
       "Previously_Obs                 0\n",
       "Initial_Three_Min_Cnt          0\n",
       "dtype: int64"
      ]
     },
     "execution_count": 13,
     "metadata": {},
     "output_type": "execute_result"
    }
   ],
   "source": [
    "df.isnull().sum()"
   ]
  },
  {
   "cell_type": "code",
   "execution_count": 93,
   "metadata": {},
   "outputs": [
    {
     "data": {
      "text/plain": [
       "Admin_Unit_Code                        object\n",
       "Plot_Name                              object\n",
       "Location_Type                          object\n",
       "Year                                   object\n",
       "Date                           datetime64[ns]\n",
       "Start_Time                             object\n",
       "End_Time                               object\n",
       "Observer                               object\n",
       "Visit                                  object\n",
       "Interval_Length                        object\n",
       "ID_Method                              object\n",
       "Distance                               object\n",
       "Flyover_Observed                       object\n",
       "Sex                                    object\n",
       "Common_Name                            object\n",
       "Scientific_Name                        object\n",
       "AcceptedTSN                           float64\n",
       "TaxonCode                             float64\n",
       "AOU_Code                               object\n",
       "PIF_Watchlist_Status                   object\n",
       "Regional_Stewardship_Status            object\n",
       "Temperature                           float64\n",
       "Humidity                              float64\n",
       "Sky                                    object\n",
       "Wind                                   object\n",
       "Disturbance                            object\n",
       "Previously_Obs                         object\n",
       "Initial_Three_Min_Cnt                  object\n",
       "dtype: object"
      ]
     },
     "execution_count": 93,
     "metadata": {},
     "output_type": "execute_result"
    }
   ],
   "source": [
    "df.dtypes"
   ]
  },
  {
   "cell_type": "code",
   "execution_count": 14,
   "metadata": {},
   "outputs": [
    {
     "data": {
      "image/png": "[encoded data removed]",
      "text/plain": [
       "<Figure size 1200x800 with 2 Axes>"
      ]
     },
     "metadata": {},
     "output_type": "display_data"
    }
   ],
   "source": [
    "import matplotlib.pyplot as plt\n",
    "import seaborn as sns\n",
    "\n",
    "# Assuming df is your DataFrame\n",
    "numerical_columns = ['Temperature', 'Humidity']\n",
    "\n",
    "plt.figure(figsize=(12, 8))\n",
    "for i, column in enumerate(numerical_columns, 1):\n",
    "    plt.subplot(2, 2, i)\n",
    "    sns.boxplot(data=df[column])\n",
    "    plt.title(f'Boxplot of {column}')\n",
    "plt.tight_layout()\n",
    "plt.show()\n",
    "\n"
   ]
  },
  {
   "cell_type": "code",
   "execution_count": null,
   "metadata": {},
   "outputs": [],
   "source": [
    "import pandas as pd\n",
    "import numpy as np\n",
    "from scipy import stats\n",
    "\n",
    "# Example DataFrame\n",
    "data = df\n",
    "df = pd.DataFrame(data)\n",
    "\n",
    "# Step 1: Create a copy of the original columns to keep intact\n",
    "df['Temperature_clean'] = df['Temperature']\n",
    "df['Humidity_clean'] = df['Humidity']\n",
    "\n",
    "# Step 2: Identifying and removing outliers from 'Temperature_clean' using IQR\n",
    "Q1_temp = df['Temperature_clean'].quantile(0.25)\n",
    "Q3_temp = df['Temperature_clean'].quantile(0.75)\n",
    "IQR_temp = Q3_temp - Q1_temp\n",
    "lower_temp = Q1_temp - 1.5 * IQR_temp\n",
    "upper_temp = Q3_temp + 1.5 * IQR_temp\n",
    "\n",
    "# Remove outliers in 'Temperature_clean'\n",
    "df['Temperature_clean'] = df['Temperature_clean'].apply(lambda x: x if lower_temp <= x <= upper_temp else np.nan)\n",
    "\n",
    "# Step 3: Identifying and removing outliers from 'Humidity_clean' using IQR\n",
    "Q1_humid = df['Humidity_clean'].quantile(0.25)\n",
    "Q3_humid = df['Humidity_clean'].quantile(0.75)\n",
    "IQR_humid = Q3_humid - Q1_humid\n",
    "lower_humid = Q1_humid - 1.5 * IQR_humid\n",
    "upper_humid = Q3_humid + 1.5 * IQR_humid\n",
    "\n",
    "# Remove outliers in 'Humidity_clean'\n",
    "df['Humidity_clean'] = df['Humidity_clean'].apply(lambda x: x if lower_humid <= x <= upper_humid else np.nan)\n",
    "\n",
    "# Show the DataFrame with original and cleaned columns\n",
    "print(df)\n"
   ]
  },
  {
   "cell_type": "code",
   "execution_count": 6,
   "metadata": {},
   "outputs": [
    {
     "data": {
      "text/plain": [
       "<Figure size 1000x600 with 0 Axes>"
      ]
     },
     "metadata": {},
     "output_type": "display_data"
    },
    {
     "data": {
      "image/png": "[encoded data removed]",
      "text/plain": [
       "<Figure size 1000x600 with 1 Axes>"
      ]
     },
     "metadata": {},
     "output_type": "display_data"
    },
    {
     "data": {
      "image/png": "[encoded data removed]",
      "text/plain": [
       "<Figure size 1000x600 with 1 Axes>"
      ]
     },
     "metadata": {},
     "output_type": "display_data"
    }
   ],
   "source": [
    "import seaborn as sns\n",
    "import matplotlib.pyplot as plt\n",
    "\n",
    "# List of numerical columns to check for outliers\n",
    "numeric_columns = [ 'Temperature_clean', 'Humidity_clean']\n",
    "\n",
    "# Set up the matplotlib figure\n",
    "plt.figure(figsize=(10, 6))\n",
    "\n",
    "# Create boxplots for each numeric column\n",
    "for col in numeric_columns:\n",
    "    plt.figure(figsize=(10, 6))\n",
    "    sns.boxplot(x=df[col])\n",
    "    plt.title(f'Boxplot for {col}')\n",
    "    plt.show()\n"
   ]
  },
  {
   "cell_type": "code",
   "execution_count": 16,
   "metadata": {},
   "outputs": [
    {
     "data": {
      "text/plain": [
       "Index(['Admin_Unit_Code', 'Plot_Name', 'Location_Type', 'Year', 'Date',\n",
       "       'Start_Time', 'End_Time', 'Observer', 'Visit', 'Interval_Length',\n",
       "       'ID_Method', 'Distance', 'Flyover_Observed', 'Sex', 'Common_Name',\n",
       "       'Scientific_Name', 'AcceptedTSN', 'TaxonCode', 'AOU_Code',\n",
       "       'PIF_Watchlist_Status', 'Regional_Stewardship_Status', 'Temperature',\n",
       "       'Humidity', 'Sky', 'Wind', 'Disturbance', 'Previously_Obs',\n",
       "       'Initial_Three_Min_Cnt', 'Temperature_clean', 'Humidity_clean'],\n",
       "      dtype='object')"
      ]
     },
     "execution_count": 16,
     "metadata": {},
     "output_type": "execute_result"
    }
   ],
   "source": [
    "df.columns"
   ]
  },
  {
   "cell_type": "code",
   "execution_count": 17,
   "metadata": {},
   "outputs": [],
   "source": [
    "import pandas as pd\n",
    "\n",
    "# Assuming 'df' is your cleaned DataFrame\n",
    "\n",
    "# Save the cleaned DataFrame to a new Excel file\n",
    "df.to_excel('GREENLAND.xlsx', index=False)"
   ]
  }
 ],
 "metadata": {
  "kernelspec": {
   "display_name": "Python 3",
   "language": "python",
   "name": "python3"
  },
  "language_info": {
   "codemirror_mode": {
    "name": "ipython",
    "version": 3
   },
   "file_extension": ".py",
   "mimetype": "text/x-python",
   "name": "python",
   "nbconvert_exporter": "python",
   "pygments_lexer": "ipython3",
   "version": "3.13.1"
  }
 },
 "nbformat": 4,
 "nbformat_minor": 2
}
